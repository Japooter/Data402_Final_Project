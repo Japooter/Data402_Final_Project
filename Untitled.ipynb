{
 "cells": [
  {
   "cell_type": "code",
   "execution_count": 2,
   "id": "8d2fa102-6729-41e1-baab-67eb702a0ff5",
   "metadata": {},
   "outputs": [
    {
     "name": "stdout",
     "output_type": "stream",
     "text": [
      "Requirement already satisfied: pandas in c:\\users\\raj_a\\appdata\\local\\programs\\python\\python312\\lib\\site-packages (2.2.2)\n",
      "Requirement already satisfied: sqlalchemy in c:\\users\\raj_a\\appdata\\local\\programs\\python\\python312\\lib\\site-packages (2.0.30)\n",
      "Requirement already satisfied: pyodbc in c:\\users\\raj_a\\appdata\\local\\programs\\python\\python312\\lib\\site-packages (5.1.0)\n",
      "Requirement already satisfied: numpy>=1.26.0 in c:\\users\\raj_a\\appdata\\local\\programs\\python\\python312\\lib\\site-packages (from pandas) (1.26.4)\n",
      "Requirement already satisfied: python-dateutil>=2.8.2 in c:\\users\\raj_a\\appdata\\local\\programs\\python\\python312\\lib\\site-packages (from pandas) (2.9.0.post0)\n",
      "Requirement already satisfied: pytz>=2020.1 in c:\\users\\raj_a\\appdata\\local\\programs\\python\\python312\\lib\\site-packages (from pandas) (2024.1)\n",
      "Requirement already satisfied: tzdata>=2022.7 in c:\\users\\raj_a\\appdata\\local\\programs\\python\\python312\\lib\\site-packages (from pandas) (2024.1)\n",
      "Requirement already satisfied: typing-extensions>=4.6.0 in c:\\users\\raj_a\\appdata\\local\\programs\\python\\python312\\lib\\site-packages (from sqlalchemy) (4.11.0)\n",
      "Requirement already satisfied: greenlet!=0.4.17 in c:\\users\\raj_a\\appdata\\local\\programs\\python\\python312\\lib\\site-packages (from sqlalchemy) (3.0.3)\n",
      "Requirement already satisfied: six>=1.5 in c:\\users\\raj_a\\appdata\\local\\programs\\python\\python312\\lib\\site-packages (from python-dateutil>=2.8.2->pandas) (1.16.0)\n",
      "Note: you may need to restart the kernel to use updated packages.\n"
     ]
    }
   ],
   "source": [
    "pip install pandas sqlalchemy pyodbc"
   ]
  },
  {
   "cell_type": "code",
   "execution_count": 3,
   "id": "d85ad22f-492f-4b75-8d67-d5cae7329696",
   "metadata": {},
   "outputs": [
    {
     "ename": "NameError",
     "evalue": "name 'academy_data' is not defined",
     "output_type": "error",
     "traceback": [
      "\u001b[1;31m---------------------------------------------------------------------------\u001b[0m",
      "\u001b[1;31mNameError\u001b[0m                                 Traceback (most recent call last)",
      "Cell \u001b[1;32mIn[3], line 23\u001b[0m\n\u001b[0;32m     16\u001b[0m engine \u001b[38;5;241m=\u001b[39m sa\u001b[38;5;241m.\u001b[39mcreate_engine(connection_url, fast_executemany\u001b[38;5;241m=\u001b[39m\u001b[38;5;28;01mTrue\u001b[39;00m)\n\u001b[0;32m     18\u001b[0m \u001b[38;5;66;03m# # Deleting existing data in SQL Table:-\u001b[39;00m\n\u001b[0;32m     19\u001b[0m \u001b[38;5;66;03m# with engine.begin() as conn:\u001b[39;00m\n\u001b[0;32m     20\u001b[0m \u001b[38;5;66;03m#     conn.exec_driver_sql(\"DELETE FROM SchemaName.TableName\")\u001b[39;00m\n\u001b[0;32m     21\u001b[0m  \n\u001b[0;32m     22\u001b[0m \u001b[38;5;66;03m# upload the DataFrame\u001b[39;00m\n\u001b[1;32m---> 23\u001b[0m \u001b[43macademy_data\u001b[49m\u001b[38;5;241m.\u001b[39mto_sql(\u001b[38;5;124m\"\u001b[39m\u001b[38;5;124mTableName\u001b[39m\u001b[38;5;124m\"\u001b[39m, engine, schema\u001b[38;5;241m=\u001b[39m\u001b[38;5;124m\"\u001b[39m\u001b[38;5;124mdbo\u001b[39m\u001b[38;5;124m\"\u001b[39m, if_exists\u001b[38;5;241m=\u001b[39m\u001b[38;5;124m\"\u001b[39m\u001b[38;5;124mappend\u001b[39m\u001b[38;5;124m\"\u001b[39m, index\u001b[38;5;241m=\u001b[39m\u001b[38;5;28;01mFalse\u001b[39;00m)\n",
      "\u001b[1;31mNameError\u001b[0m: name 'academy_data' is not defined"
     ]
    }
   ],
   "source": [
    "import pandas as pd\n",
    "import sqlalchemy as sa\n",
    " \n",
    "connection_string = (\n",
    "    'Driver=ODBC Driver 17 for SQL Server;'\n",
    "    'Server=127.0.0.1;'\n",
    "    'Database=FinalProject;'\n",
    "    'UID=sa;'\n",
    "    'PWD=password;'\n",
    "    'Trusted_Connection=no;'\n",
    ")\n",
    "connection_url = sa.engine.URL.create(\n",
    "    \"mssql+pyodbc\", \n",
    "    query=dict(odbc_connect=connection_string)\n",
    ")\n",
    "engine = sa.create_engine(connection_url, fast_executemany=True)\n",
    " \n",
    "# # Deleting existing data in SQL Table:-\n",
    "# with engine.begin() as conn:\n",
    "#     conn.exec_driver_sql(\"DELETE FROM SchemaName.TableName\")\n",
    " \n",
    "# upload the DataFrame\n",
    "academy_data.to_sql(\"TableName\", engine, schema=\"dbo\", if_exists=\"append\", index=False)\n"
   ]
  },
  {
   "cell_type": "code",
   "execution_count": null,
   "id": "181336d5-59e7-4022-984b-5927d946dbe6",
   "metadata": {},
   "outputs": [],
   "source": []
  }
 ],
 "metadata": {
  "kernelspec": {
   "display_name": "Python 3 (ipykernel)",
   "language": "python",
   "name": "python3"
  },
  "language_info": {
   "codemirror_mode": {
    "name": "ipython",
    "version": 3
   },
   "file_extension": ".py",
   "mimetype": "text/x-python",
   "name": "python",
   "nbconvert_exporter": "python",
   "pygments_lexer": "ipython3",
   "version": "3.12.3"
  }
 },
 "nbformat": 4,
 "nbformat_minor": 5
}
