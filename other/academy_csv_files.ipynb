{
 "cells": [
  {
   "cell_type": "code",
   "execution_count": 17,
   "id": "d64684a6-e15f-4ec5-afc2-728dbdb05406",
   "metadata": {},
   "outputs": [],
   "source": [
    "import boto3\n",
    "import pandas as pd\n",
    "import json"
   ]
  },
  {
   "cell_type": "code",
   "execution_count": 18,
   "id": "a25c766a-bd74-4a5d-9cff-2fe522038f84",
   "metadata": {},
   "outputs": [],
   "source": [
    "s3 = boto3.client('s3')"
   ]
  },
  {
   "cell_type": "code",
   "execution_count": 19,
   "id": "f1011d62-0df9-48dd-8468-52d0cf6d4296",
   "metadata": {},
   "outputs": [],
   "source": [
    "def list_all_objects(bucket, prefix):\n",
    "    all_objects = []\n",
    "    continuation_token = None\n",
    "    \n",
    "    while True:\n",
    "        if continuation_token:\n",
    "            response = s3.list_objects_v2(Bucket=bucket, Prefix=prefix, ContinuationToken=continuation_token)\n",
    "        else:\n",
    "            response = s3.list_objects_v2(Bucket=bucket, Prefix=prefix)\n",
    "        \n",
    "        if 'Contents' in response:\n",
    "            all_objects.extend([obj['Key'] for obj in response['Contents']])\n",
    "        \n",
    "        if not response.get('NextContinuationToken'):\n",
    "            break\n",
    "        \n",
    "        continuation_token = response['NextContinuationToken']\n",
    "    \n",
    "    return all_objects"
   ]
  },
  {
   "cell_type": "code",
   "execution_count": 20,
   "id": "25805d7d-826a-4776-91d9-0513fdc73c11",
   "metadata": {},
   "outputs": [],
   "source": [
    "def list_csv_files(bucket, prefix):\n",
    "    csv_files = []\n",
    "    response = s3.list_objects_v2(Bucket=bucket, Prefix=prefix)\n",
    "    if 'Contents' in response:\n",
    "        for obj in response['Contents']:\n",
    "            if obj['Key'].endswith('.csv'):\n",
    "                csv_files.append(obj['Key'])\n",
    "    return csv_files\n",
    "\n"
   ]
  },
  {
   "cell_type": "code",
   "execution_count": 21,
   "id": "3b4abb44-641f-4b62-9387-3dd2e6f2b001",
   "metadata": {},
   "outputs": [],
   "source": [
    "def read_csv_from_s3(bucket, file_key):\n",
    "    response = s3.get_object(Bucket=bucket, Key=file_key)\n",
    "    df = pd.read_csv(response['Body'])\n",
    "    return df"
   ]
  },
  {
   "cell_type": "code",
   "execution_count": 22,
   "id": "3c6764c1-d1a6-4f4d-950a-00ed40d18ccc",
   "metadata": {},
   "outputs": [],
   "source": [
    "def convert_floats_to_ints(df):\n",
    "    for column in df.columns:\n",
    "        if df[column].dtype == 'float64':\n",
    "            df[column] = df[column].fillna(0).astype(int)\n",
    "    return df"
   ]
  },
  {
   "cell_type": "code",
   "execution_count": 23,
   "id": "3c0fc90d-ab06-4a84-8d77-2e9841e20463",
   "metadata": {},
   "outputs": [],
   "source": [
    "bucket_name = 'data-402-final-project'\n",
    "prefix = 'Academy/'"
   ]
  },
  {
   "cell_type": "code",
   "execution_count": 24,
   "id": "419b3eed-7b2c-4b48-a170-a0c532f6f8d8",
   "metadata": {},
   "outputs": [],
   "source": [
    "csv_files = list_csv_files(bucket_name, prefix)"
   ]
  },
  {
   "cell_type": "code",
   "execution_count": 27,
   "id": "8a573f12-946a-45c8-a51a-bdbd8e95ab54",
   "metadata": {},
   "outputs": [
    {
     "name": "stdout",
     "output_type": "stream",
     "text": [
      "Contents of the first CSV file:\n",
      "               name       trainer  Analytic_W1  Independent_W1  Determined_W1  \\\n",
      "0   Quintus Penella  Gregor Gomez            1               2              2   \n",
      "1      Simon Murrey  Gregor Gomez            6               1              1   \n",
      "2       Gustaf Lude  Gregor Gomez            6               4              1   \n",
      "3     Yolanda Fosse  Gregor Gomez            2               1              2   \n",
      "4      Lynnett Swin  Gregor Gomez            2               2              4   \n",
      "5  Bart Godilington  Gregor Gomez            3               6              1   \n",
      "6        Deni Roust  Gregor Gomez            6               3              1   \n",
      "7   Gerhard Mcgrath  Gregor Gomez            2               3              3   \n",
      "\n",
      "   Professional_W1  Studious_W1  Imaginative_W1  Analytic_W2  Independent_W2  \\\n",
      "0                1            2               2          NaN             NaN   \n",
      "1                2            4               2          3.0             1.0   \n",
      "2                1            2               3          1.0             1.0   \n",
      "3                3            3               3          4.0             2.0   \n",
      "4                5            1               2          3.0             2.0   \n",
      "5                5            4               1          2.0             1.0   \n",
      "6                4            4               2          7.0             2.0   \n",
      "7                4            1               1          3.0             6.0   \n",
      "\n",
      "   ...  Determined_W7  Professional_W7  Studious_W7  Imaginative_W7  \\\n",
      "0  ...            NaN              NaN          NaN             NaN   \n",
      "1  ...            NaN              NaN          NaN             NaN   \n",
      "2  ...            8.0              8.0          8.0             6.0   \n",
      "3  ...            8.0              7.0          8.0             8.0   \n",
      "4  ...            7.0              8.0          8.0             8.0   \n",
      "5  ...            6.0              8.0          8.0             7.0   \n",
      "6  ...            8.0              8.0          7.0             7.0   \n",
      "7  ...            8.0              4.0          8.0             8.0   \n",
      "\n",
      "   Analytic_W8  Independent_W8  Determined_W8  Professional_W8  Studious_W8  \\\n",
      "0          NaN             NaN            NaN              NaN          NaN   \n",
      "1          NaN             NaN            NaN              NaN          NaN   \n",
      "2          8.0             7.0            8.0              8.0          7.0   \n",
      "3          8.0             8.0            7.0              8.0          7.0   \n",
      "4          8.0             7.0            8.0              8.0          8.0   \n",
      "5          7.0             7.0            8.0              6.0          7.0   \n",
      "6          7.0             8.0            8.0              8.0          8.0   \n",
      "7          8.0             8.0            7.0              8.0          7.0   \n",
      "\n",
      "   Imaginative_W8  \n",
      "0             NaN  \n",
      "1             NaN  \n",
      "2             8.0  \n",
      "3             5.0  \n",
      "4             8.0  \n",
      "5             8.0  \n",
      "6             8.0  \n",
      "7             8.0  \n",
      "\n",
      "[8 rows x 50 columns]\n",
      "\n",
      "Contents of the first CSV file after converting floats to ints:\n",
      "               name       trainer  Analytic_W1  Independent_W1  Determined_W1  \\\n",
      "0   Quintus Penella  Gregor Gomez            1               2              2   \n",
      "1      Simon Murrey  Gregor Gomez            6               1              1   \n",
      "2       Gustaf Lude  Gregor Gomez            6               4              1   \n",
      "3     Yolanda Fosse  Gregor Gomez            2               1              2   \n",
      "4      Lynnett Swin  Gregor Gomez            2               2              4   \n",
      "5  Bart Godilington  Gregor Gomez            3               6              1   \n",
      "6        Deni Roust  Gregor Gomez            6               3              1   \n",
      "7   Gerhard Mcgrath  Gregor Gomez            2               3              3   \n",
      "\n",
      "   Professional_W1  Studious_W1  Imaginative_W1  Analytic_W2  Independent_W2  \\\n",
      "0                1            2               2            0               0   \n",
      "1                2            4               2            3               1   \n",
      "2                1            2               3            1               1   \n",
      "3                3            3               3            4               2   \n",
      "4                5            1               2            3               2   \n",
      "5                5            4               1            2               1   \n",
      "6                4            4               2            7               2   \n",
      "7                4            1               1            3               6   \n",
      "\n",
      "   ...  Determined_W7  Professional_W7  Studious_W7  Imaginative_W7  \\\n",
      "0  ...              0                0            0               0   \n",
      "1  ...              0                0            0               0   \n",
      "2  ...              8                8            8               6   \n",
      "3  ...              8                7            8               8   \n",
      "4  ...              7                8            8               8   \n",
      "5  ...              6                8            8               7   \n",
      "6  ...              8                8            7               7   \n",
      "7  ...              8                4            8               8   \n",
      "\n",
      "   Analytic_W8  Independent_W8  Determined_W8  Professional_W8  Studious_W8  \\\n",
      "0            0               0              0                0            0   \n",
      "1            0               0              0                0            0   \n",
      "2            8               7              8                8            7   \n",
      "3            8               8              7                8            7   \n",
      "4            8               7              8                8            8   \n",
      "5            7               7              8                6            7   \n",
      "6            7               8              8                8            8   \n",
      "7            8               8              7                8            7   \n",
      "\n",
      "   Imaginative_W8  \n",
      "0               0  \n",
      "1               0  \n",
      "2               8  \n",
      "3               5  \n",
      "4               8  \n",
      "5               8  \n",
      "6               8  \n",
      "7               8  \n",
      "\n",
      "[8 rows x 50 columns]\n"
     ]
    }
   ],
   "source": [
    "if csv_files:\n",
    "    # View contents of the first CSV file\n",
    "    first_csv_file = csv_files[0]\n",
    "    academy_csv_files = read_csv_from_s3(bucket_name, first_csv_file)\n",
    "    print(\"Contents of the first CSV file:\")\n",
    "    print(academy_csv_files)\n",
    "    \n",
    "    # Convert floats to ints\n",
    "    academy_csv_files = convert_floats_to_ints(academy_csv_files)\n",
    "    print(\"\\nContents of the first CSV file after converting floats to ints:\")\n",
    "    print(academy_csv_files)\n",
    "else:\n",
    "    print(\"No CSV files found in the Academy folder.\")"
   ]
  },
  {
   "cell_type": "code",
   "execution_count": null,
   "id": "24ce2829-f249-4a75-9740-b77684e8a8c0",
   "metadata": {},
   "outputs": [],
   "source": []
  }
 ],
 "metadata": {
  "kernelspec": {
   "display_name": "Python 3 (ipykernel)",
   "language": "python",
   "name": "python3"
  },
  "language_info": {
   "codemirror_mode": {
    "name": "ipython",
    "version": 3
   },
   "file_extension": ".py",
   "mimetype": "text/x-python",
   "name": "python",
   "nbconvert_exporter": "python",
   "pygments_lexer": "ipython3",
   "version": "3.12.3"
  }
 },
 "nbformat": 4,
 "nbformat_minor": 5
}
