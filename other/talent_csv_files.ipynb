{
 "cells": [
  {
   "cell_type": "code",
   "execution_count": 19,
   "id": "2a5fd0fb-acab-4abc-a090-86a288ca0fa9",
   "metadata": {},
   "outputs": [
    {
     "name": "stdout",
     "output_type": "stream",
     "text": [
      "Requirement already satisfied: boto3 in c:\\users\\raj_a\\appdata\\local\\programs\\python\\python312\\lib\\site-packages (1.34.117)\n",
      "Requirement already satisfied: botocore<1.35.0,>=1.34.117 in c:\\users\\raj_a\\appdata\\local\\programs\\python\\python312\\lib\\site-packages (from boto3) (1.34.117)\n",
      "Requirement already satisfied: jmespath<2.0.0,>=0.7.1 in c:\\users\\raj_a\\appdata\\local\\programs\\python\\python312\\lib\\site-packages (from boto3) (1.0.1)\n",
      "Requirement already satisfied: s3transfer<0.11.0,>=0.10.0 in c:\\users\\raj_a\\appdata\\local\\programs\\python\\python312\\lib\\site-packages (from boto3) (0.10.1)\n",
      "Requirement already satisfied: python-dateutil<3.0.0,>=2.1 in c:\\users\\raj_a\\appdata\\local\\programs\\python\\python312\\lib\\site-packages (from botocore<1.35.0,>=1.34.117->boto3) (2.9.0.post0)\n",
      "Requirement already satisfied: urllib3!=2.2.0,<3,>=1.25.4 in c:\\users\\raj_a\\appdata\\local\\programs\\python\\python312\\lib\\site-packages (from botocore<1.35.0,>=1.34.117->boto3) (2.2.1)\n",
      "Requirement already satisfied: six>=1.5 in c:\\users\\raj_a\\appdata\\local\\programs\\python\\python312\\lib\\site-packages (from python-dateutil<3.0.0,>=2.1->botocore<1.35.0,>=1.34.117->boto3) (1.16.0)\n"
     ]
    }
   ],
   "source": [
    "!pip install boto3\n",
    "\n",
    "import boto3\n",
    "import pandas as pd\n",
    "import json\n",
    "import csv\n",
    "import os\n",
    "import re "
   ]
  },
  {
   "cell_type": "code",
   "execution_count": 20,
   "id": "8f684295-6384-44bd-9fe7-d742d263e1fa",
   "metadata": {},
   "outputs": [],
   "source": [
    "s3 = boto3.client('s3')"
   ]
  },
  {
   "cell_type": "code",
   "execution_count": 21,
   "id": "b0f10c00-5fce-4f92-aad7-1ce4d4acda82",
   "metadata": {},
   "outputs": [],
   "source": [
    "def list_all_objects(bucket, prefix):\n",
    "    all_objects = []\n",
    "    continuation_token = None\n",
    "    \n",
    "    while True:\n",
    "        if continuation_token:\n",
    "            response = s3.list_objects_v2(Bucket=bucket, Prefix=prefix, ContinuationToken=continuation_token)\n",
    "        else:\n",
    "            response = s3.list_objects_v2(Bucket=bucket, Prefix=prefix)\n",
    "        \n",
    "        if 'Contents' in response:\n",
    "            all_objects.extend([obj['Key'] for obj in response['Contents']])\n",
    "        \n",
    "        if not response.get('NextContinuationToken'):\n",
    "            break\n",
    "        \n",
    "        continuation_token = response['NextContinuationToken']\n",
    "    \n",
    "    return all_objects"
   ]
  },
  {
   "cell_type": "code",
   "execution_count": 22,
   "id": "05f18c1c-0129-46b2-ac87-4dca0b034a67",
   "metadata": {},
   "outputs": [],
   "source": [
    "def get_csv_files(bucket, prefix):\n",
    "    all_files = list_all_objects(bucket, prefix)\n",
    "    talent_csv_files = [file for file in all_files if file.endswith('.csv')]\n",
    "    return talent_csv_files"
   ]
  },
  {
   "cell_type": "code",
   "execution_count": 23,
   "id": "300ff89c-d74d-4e5e-bfde-cba96ec69a0a",
   "metadata": {},
   "outputs": [],
   "source": [
    "def show_csv_content(bucket, file_key):\n",
    "    # Retrieve the CSV file from S3\n",
    "    response = s3.get_object(Bucket=bucket, Key=file_key)\n",
    "    # Read the CSV file content\n",
    "    csv_content = pd.read_csv(response['Body'])\n",
    "    \n",
    "    # Convert 'dob' column to datetime\n",
    "    csv_content['dob'] = pd.to_datetime(csv_content['dob'], format='%d/%m/%Y', errors='coerce')\n",
    "    \n",
    "    # Convert 'month' column to datetime\n",
    "    csv_content['month'] = pd.to_datetime(csv_content['month'], format='%B %Y', errors='coerce')\n",
    "    \n",
    "    # Format 'invited_date' with the correct ordinal suffix\n",
    "    def ordinal_suffix(day):\n",
    "        if 10 <= day % 100 <= 20:\n",
    "            suffix = 'th'\n",
    "        else:\n",
    "            suffix = {1: 'st', 2: 'nd', 3: 'rd'}.get(day % 10, 'th')\n",
    "        return str(day) + suffix\n",
    "\n",
    "    csv_content['invited_date'] = csv_content['invited_date'].dropna().astype(int).apply(ordinal_suffix)\n",
    "    \n",
    "    print(csv_content)\n",
    "\n",
    "\n",
    "bucket_name = 'data-402-final-project'\n",
    "prefix = 'Talent/'\n",
    "\n",
    "# Get all CSV files\n",
    "talent_csv_files = get_csv_files(bucket_name, prefix)"
   ]
  },
  {
   "cell_type": "code",
   "execution_count": 24,
   "id": "8d039368-9afa-4883-b721-3db13d27a16e",
   "metadata": {},
   "outputs": [
    {
     "name": "stdout",
     "output_type": "stream",
     "text": [
      "CSV files found: ['Talent/April2019Applicants.csv', 'Talent/Aug2019Applicants.csv', 'Talent/Dec2019Applicants.csv', 'Talent/Feb2019Applicants.csv', 'Talent/Jan2019Applicants.csv', 'Talent/July2019Applicants.csv', 'Talent/June2019Applicants.csv', 'Talent/March2019Applicants.csv', 'Talent/May2019Applicants.csv', 'Talent/Nov2019Applicants.csv', 'Talent/Oct2019Applicants.csv', 'Talent/Sept2019Applicants.csv']\n"
     ]
    }
   ],
   "source": [
    "# Print the list of CSV files\n",
    "print(\"CSV files found:\", talent_csv_files)"
   ]
  },
  {
   "cell_type": "code",
   "execution_count": 25,
   "id": "8adb5150-e306-4f88-b557-f379072b020c",
   "metadata": {},
   "outputs": [
    {
     "name": "stdout",
     "output_type": "stream",
     "text": [
      "\n",
      "Contents of the first CSV file:\n",
      "      id                 name  gender        dob  \\\n",
      "0      1       Esme Trusslove  Female 1994-08-04   \n",
      "1      2      Matthaeus Audas    Male        NaT   \n",
      "2      3      Cherey Tollfree  Female 1992-12-08   \n",
      "3      4          Eryn Speers  Female        NaT   \n",
      "4      5    Theadora Berkelay  Female 1995-11-03   \n",
      "..   ...                  ...     ...        ...   \n",
      "374  375  Pembroke Rheubottom    Male 1990-11-24   \n",
      "375  376         Celle Barlas  Female 1994-11-08   \n",
      "376  377           Scott Duny    Male 1995-03-19   \n",
      "377  378         Conny Robson    Male 1993-11-23   \n",
      "378  379    Boycey Matushenko    Male 1991-04-21   \n",
      "\n",
      "                            email        city               address postcode  \\\n",
      "0           etrusslove0@google.es     Swindon  22056 Lerdahl Avenue      SN1   \n",
      "1            maudas1@mapquest.com    Charlton      263 Nelson Trail     OX12   \n",
      "2         ctollfree2@netvibes.com      Weston      69 Coleman Court     GU32   \n",
      "3          espeers3@shinystat.com      Sutton    0166 Daystar Drive     CT15   \n",
      "4          tberkelay4@godaddy.com       Upton   6 Mandrake Crossing      WF9   \n",
      "..                            ...         ...                   ...      ...   \n",
      "374      prheubottomae@joomla.org    Bradford     59 Moland Terrace      BD7   \n",
      "375           cbarlasaf@google.ru  Birmingham      16 Old Gate Lane      B40   \n",
      "376           sdunyag@blogger.com         NaN                   NaN      NaN   \n",
      "377       crobsonah@aboutads.info       Upton         237 Golf Road      WF9   \n",
      "378  bmatushenkoai@guardian.co.uk       Upton      7 Onsgard Avenue      WF9   \n",
      "\n",
      "           phone_number                                                uni  \\\n",
      "0      +44-295-783-0228  Saint George's Hospital Medical School, Univer...   \n",
      "1      +44-957-728-0155                                   Keele University   \n",
      "2      +44-588-749-6002        King's College London, University of London   \n",
      "3      +44 148 787 0613                            University of Edinburgh   \n",
      "4    +44 (841) 468-3619                            University of Leicester   \n",
      "..                  ...                                                ...   \n",
      "374    +44-100-708-9560                  University of Newcastle-upon-Tyne   \n",
      "375    +44 452 183 0050                           University of Sunderland   \n",
      "376    +44 225 361 7568                           Anglia Ruskin University   \n",
      "377    +44 554 585 0078                          University of Southampton   \n",
      "378    +44-287-606-3188                  University of Newcastle-upon-Tyne   \n",
      "\n",
      "    degree invited_date      month       invited_by  \n",
      "0      2:1         10th 2019-04-01  Bruno Bellbrook  \n",
      "1      2:1         30th 2019-04-01   Doris Bellasis  \n",
      "2      2:1         25th 2019-04-01    Gismo Tilling  \n",
      "3      2:1          NaN        NaT              NaN  \n",
      "4      2:1          2nd 2019-04-01     Stacey Broad  \n",
      "..     ...          ...        ...              ...  \n",
      "374    2:1          NaN        NaT              NaN  \n",
      "375    2:2         16th 2019-04-01   Doris Bellasis  \n",
      "376    2:1         11th 2019-04-01   Doris Bellasis  \n",
      "377    2:1         25th 2019-04-01     Stacey Broad  \n",
      "378    2:1         25th 2019-04-01       Fifi Etton  \n",
      "\n",
      "[379 rows x 14 columns]\n"
     ]
    }
   ],
   "source": [
    "# Show the content of one CSV file\n",
    "if talent_csv_files:\n",
    "    print(\"\\nContents of the first CSV file:\")\n",
    "    show_csv_content(bucket_name, talent_csv_files[0])\n",
    "else:\n",
    "    print(\"No CSV files found.\")"
   ]
  },
  {
   "cell_type": "code",
   "execution_count": null,
   "id": "aab5d4df-a165-48bd-9b6a-424d39d88dfa",
   "metadata": {},
   "outputs": [],
   "source": []
  }
 ],
 "metadata": {
  "kernelspec": {
   "display_name": "Python 3 (ipykernel)",
   "language": "python",
   "name": "python3"
  },
  "language_info": {
   "codemirror_mode": {
    "name": "ipython",
    "version": 3
   },
   "file_extension": ".py",
   "mimetype": "text/x-python",
   "name": "python",
   "nbconvert_exporter": "python",
   "pygments_lexer": "ipython3",
   "version": "3.12.3"
  }
 },
 "nbformat": 4,
 "nbformat_minor": 5
}
